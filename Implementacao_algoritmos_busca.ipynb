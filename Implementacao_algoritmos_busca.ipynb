{
  "nbformat": 4,
  "nbformat_minor": 0,
  "metadata": {
    "colab": {
      "name": "Implementacao-algoritmos-busca.ipynb",
      "provenance": [],
      "collapsed_sections": [],
      "include_colab_link": true
    },
    "kernelspec": {
      "name": "python3",
      "display_name": "Python 3"
    }
  },
  "cells": [
    {
      "cell_type": "markdown",
      "metadata": {
        "id": "view-in-github",
        "colab_type": "text"
      },
      "source": [
        "<a href=\"https://colab.research.google.com/github/arnaldocaetanocardoso/optimization_code/blob/main/Implementacao_algoritmos_busca.ipynb\" target=\"_parent\"><img src=\"https://colab.research.google.com/assets/colab-badge.svg\" alt=\"Open In Colab\"/></a>"
      ]
    },
    {
      "cell_type": "markdown",
      "metadata": {
        "id": "KP9bNoHbXGv5"
      },
      "source": [
        "# **Algoritmos de busca sem informação**\n",
        "\n",
        "*   Busca em **profundidade**\n",
        "*   Busca em **largura**\n",
        "*   Busca de **custo mínimo**"
      ]
    },
    {
      "cell_type": "markdown",
      "metadata": {
        "id": "4icLDo1CXypW"
      },
      "source": [
        "## Busca em largura"
      ]
    },
    {
      "cell_type": "code",
      "metadata": {
        "id": "hwvcprbhXxm7"
      },
      "source": [
        "def buscaEmLargura(grafo, inicio , objetivo):\n",
        "\n",
        "    fronteira = []\n",
        "    fronteira.append(inicio)\n",
        "    while fronteira != []:\n",
        "      vertice = fronteira.pop(0)\n",
        "      if vertice == objetivo:\n",
        "        print(\"Destino\", objetivo, \"encontrado\")\n",
        "        return\n",
        "      else:\n",
        "        for chave, valor in grafo[vertice].items():\n",
        "          fronteira.append(chave)\n",
        "    print(\"Objetivo\", Objetivo , \"Não foi encontrado\")"
      ],
      "execution_count": 16,
      "outputs": []
    },
    {
      "cell_type": "markdown",
      "metadata": {
        "id": "Vwtj-RjmKYT_"
      },
      "source": [
        "# Busca em profundidade\n"
      ]
    },
    {
      "cell_type": "code",
      "metadata": {
        "id": "s9sk14_ZKmsf"
      },
      "source": [
        ""
      ],
      "execution_count": 16,
      "outputs": []
    },
    {
      "cell_type": "code",
      "metadata": {
        "id": "wcb6Od-RNDm1"
      },
      "source": [
        "def buscaEmProfundidade(grafo, inicio , objetivo):\n",
        "\n",
        "    fronteira = []\n",
        "    fronteira.append(inicio)\n",
        "    while fronteira != []:\n",
        "      vertice = fronteira.pop(-1)\n",
        "      if vertice == objetivo:\n",
        "        print(\"Destino\", objetivo, \"encontrado\")\n",
        "        return\n",
        "      else:\n",
        "        for chave, valor in grafo[vertice].items():\n",
        "          fronteira.append(chave)\n",
        "    print(\"Objetivo\", Objetivo , \"Não foi encontrado\")"
      ],
      "execution_count": 17,
      "outputs": []
    },
    {
      "cell_type": "markdown",
      "metadata": {
        "id": "kF7xuS9wPPeB"
      },
      "source": [
        "# Busca com custo mínimo\n",
        "\n",
        "Nesta implementação vamos utilizar uma fila de prioridade.\n",
        "Vamos sempre remover da lista o vertice com menor valor de custo.\n"
      ]
    },
    {
      "cell_type": "code",
      "metadata": {
        "id": "vMm4y1NxPaPF"
      },
      "source": [
        ""
      ],
      "execution_count": 17,
      "outputs": []
    },
    {
      "cell_type": "markdown",
      "metadata": {
        "id": "4pMpH3Yrm3_K"
      },
      "source": [
        "## Execução dos algoritmos"
      ]
    },
    {
      "cell_type": "code",
      "metadata": {
        "id": "f2QzbjSxm_Rb"
      },
      "source": [
        "'''\n",
        "Definicao do grafo\n",
        "Vamos utilizar dicionario de dicionarios para representar a formação do grafo\n",
        "Os vertices serao as chaves do dicionario. Os vizinhos de cada um dos vertices\n",
        "serao representados por um dicionario com a string do vizinho e o respectivo peso \n",
        "(para uso nas buscas com custo minimo ou na utilizacao de heuristicas)\n",
        "''' \n",
        "\n",
        "grafo = {\"b1\":{\"b2\": 6, \"c2\":3},\n",
        "         \"b2\":{\"b4\": 3},\n",
        "         \"b3\":{\"b1\": 4, \"b4\": 7},\n",
        "         \"b4\":{\"o109\": 7},\n",
        "         \"c1\":{\"c3\": 8},\n",
        "         \"c2\":{\"c1\": 4},\n",
        "         \"c3\":{},\n",
        "         \"mail\":{},\n",
        "         \"o103\":{\"ts\": 8, \"b3\": 4, \"o109\": 12},\n",
        "         \"o109\":{\"o111\": 4, \"o119\": 16},\n",
        "         \"o111\":{},\n",
        "         \"o119\":{\"storage\": 7, \"o123\": 9},\n",
        "         \"o123\":{\"r123\": 4, \"o125\": 4},\n",
        "         \"o125\":{},\n",
        "         \"r123\":{},\n",
        "         \"storage\":{},\n",
        "         \"ts\":{\"mail\": 6}\n",
        "         }"
      ],
      "execution_count": 18,
      "outputs": []
    },
    {
      "cell_type": "code",
      "metadata": {
        "id": "fmn-kyjsR8RK",
        "colab": {
          "base_uri": "https://localhost:8080/"
        },
        "outputId": "2b5978d1-499c-4d9e-dd7d-d2d9596af12f"
      },
      "source": [
        "# Teste - busca em largura\n",
        "print(\"\\n\\n\\nxxxxxxxxxxxxxxxxxxxxxxxxxxxxxxxxxxxxxxxxxxxxx\\nExecucao de busca em largura\\nxxxxxxxxxxxxxxxxxxxxxxxxxxxxxxxxxxxxxxxxxxxxx\")\n",
        "buscaEmLargura(grafo,\"o103\", \"r123\")"
      ],
      "execution_count": 19,
      "outputs": [
        {
          "output_type": "stream",
          "name": "stdout",
          "text": [
            "\n",
            "\n",
            "\n",
            "xxxxxxxxxxxxxxxxxxxxxxxxxxxxxxxxxxxxxxxxxxxxx\n",
            "Execucao de busca em largura\n",
            "xxxxxxxxxxxxxxxxxxxxxxxxxxxxxxxxxxxxxxxxxxxxx\n",
            "Destino r123 encontrado\n"
          ]
        }
      ]
    },
    {
      "cell_type": "code",
      "metadata": {
        "id": "Dg7VFJ1HSCGp",
        "colab": {
          "base_uri": "https://localhost:8080/"
        },
        "outputId": "f0914164-661b-45b6-9341-cebd12cc1262"
      },
      "source": [
        "# Teste - busca em profundidade\n",
        "print(\"\\n\\n\\nxxxxxxxxxxxxxxxxxxxxxxxxxxxxxxxxxxxxxxxxxxxxx\\nExecucao de busca em profundidade\\nxxxxxxxxxxxxxxxxxxxxxxxxxxxxxxxxxxxxxxxxxxxxx\")\n",
        "buscaEmProfundidade(grafo,\"o103\", \"r123\")"
      ],
      "execution_count": 20,
      "outputs": [
        {
          "output_type": "stream",
          "name": "stdout",
          "text": [
            "\n",
            "\n",
            "\n",
            "xxxxxxxxxxxxxxxxxxxxxxxxxxxxxxxxxxxxxxxxxxxxx\n",
            "Execucao de busca em profundidade\n",
            "xxxxxxxxxxxxxxxxxxxxxxxxxxxxxxxxxxxxxxxxxxxxx\n",
            "Destino r123 encontrado\n"
          ]
        }
      ]
    }
  ]
}